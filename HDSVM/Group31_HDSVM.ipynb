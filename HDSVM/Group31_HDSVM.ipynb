{
  "cells": [
    {
      "cell_type": "markdown",
      "metadata": {
        "id": "QpOM4NPbunyL"
      },
      "source": [
        "# Predicting Heart Disease using Support Vector Machines\n",
        "This code trains a non-linear SVM classifier $\\mathbf w, b$ such that $\\text{sgn}(\\mathbf w^T\\phi(\\mathbf x)+b) = 1$ if a patient having attribs. $\\mathbf x$ is expected to develop heart disease and $-1$ otherwise. From domain knowledge, it is known that a soft slackness of $l(\\xi_i) = \\log\\left(1+\\exp\\left(\\xi_i\\right)\\right)$ is necessary. This gives us the following optimization problem:\n",
        "$$\\min_{\\mathbf w \\in \\mathbb R^d, b\\in \\mathbb R, \\xi \\in \\mathbb R^n} \\frac12 \\mathbf w^T\\mathbf w + C\\displaystyle\\sum_{i = 0}^{n-1} l(\\xi_i)$$ $$\\text{subject to } \\xi_i = -y_i(\\mathbf w^T\\phi(\\mathbf x_i) + b)$$\n",
        "which is a convex non-linear programming problem. We use ```scipy.optimize.minimize``` to iteratively solve this, and compare our non-linear and slack classifiers' results with those produced by ```sklearn.svm.LinearSVC```."
      ]
    },
    {
      "cell_type": "markdown",
      "source": [
        "## Importing necessary modules"
      ],
      "metadata": {
        "id": "uThcLjyNPTT7"
      }
    },
    {
      "cell_type": "code",
      "execution_count": null,
      "metadata": {
        "id": "DaW21OltuAhu"
      },
      "outputs": [],
      "source": [
        "import numpy as np\n",
        "import pandas as pd\n",
        "from sklearn.model_selection import train_test_split\n",
        "from scipy.optimize import minimize\n",
        "from sklearn.metrics import accuracy_score\n",
        "from sklearn.metrics import classification_report\n",
        "from sklearn.svm import LinearSVC"
      ]
    },
    {
      "cell_type": "markdown",
      "source": [
        "## Performing dual Lagrangian optimization\n",
        "To formulate the Lagrangian of the given optimization problem, we introduce n Lagrange multipliers $\\alpha_i$ for each constraint $\\xi_i = -y_i\\times(\\mathbf w^T\\phi(\\mathbf x_i)+b)$.\n",
        "\n",
        "The Lagrangian function is given by:\n",
        "$\\mathcal L(w,b,\\xi,\\alpha) = \\frac12 ||\\mathbf w||^2 + C\\displaystyle\\sum_{i = 0}^{n-1} l(\\xi_i) - \\displaystyle\\sum_{i=0}^{n-1} \\alpha_i (\\xi_i + y_i(\\mathbf w^T\\phi(\\mathbf x_i) + b))$\n",
        "\n",
        "where $l(x) = \\log(1+e^x)$\n",
        "\n",
        "### KKT conditions\n",
        "The corresponding KKT conditions for the above optimization problem are:\n",
        "\n",
        "#### Stationarity:\n",
        "\n",
        "∇w L(w,b,xi,alpha) = 0 => $\\mathbf w =\\displaystyle\\sum_{i=0}^{n-1}\\alpha_iy_i \\phi(x_i)$\n",
        "\n",
        "∇b L(w,b,xi,alpha) = 0 => $\\displaystyle\\sum_{i=0}^{n-1}\\alpha_iy_i = 0$\n",
        "\n",
        "∇xi_i L(w,b,xi,alpha) = 0 => $Cl'(\\xi_i)-\\alpha_i = 0\\implies \\alpha_i = \\frac{C}{1+\\exp(-\\xi_i)} \\implies \\xi_i = \\log\\left(\\frac{\\alpha_i}{C-\\alpha_i}\\right)$\n",
        "\n",
        "#### Primal feasibility:\n",
        "\n",
        "xi_i >= 0 for all i\n",
        "\n",
        "#### Dual feasibility:\n",
        "\n",
        "α_i >= 0 for all i\n",
        "\n",
        "#### Complementary slackness:\n",
        "\n",
        "α_i * xi_i = 0 for all i\n",
        "\n",
        "#### Feasibility of the constraints:\n",
        "\n",
        "y_i(w.T*phi(x_i) + b) >= 1 - xi_i for all i\n",
        "\n",
        "Using the KKT conditions, we can eliminate $\\mathbf w$ and $b$ from the Lagrangian to get the dual optimization problem.\n",
        "\n",
        "## Dual optimization statement\n",
        "The dual optimization problem is given by:\n",
        "\n",
        "$$\\displaystyle\\max_{\\alpha}\\mathcal L_D$$\n",
        "$$\\text{subject to } 0\\leq\\alpha_i\\ \\forall i\\in\\{0,1,2,\\dots n-1\\}$$\n",
        "And we must find $\\mathcal L_D$ via that elimination, which comes from the stationary conditions. \n",
        "\n",
        "$$\\tag 1 \\frac12||\\mathbf w||^2 = \\frac12\\left(\\displaystyle\\sum_{i=0}^{n-1}\\alpha_i y_i \\phi(x_i)\\right)^T\\left(\\displaystyle\\sum_{i=0}^{n-1}\\alpha_i y_i \\phi(x_i)\\right) = \\frac12\\displaystyle\\sum_{i=0}^{n-1}\\displaystyle\\sum_{j=0}^{n-1}\\alpha_i\\alpha_jy_iy_jK(x_i,x_j)$$\n",
        "$$\\tag 2 C\\displaystyle\\sum_{i=0}^{n-1}l(\\xi_i) = C\\displaystyle\\sum_{i=0}^{n-1}\\log(1+\\exp\\log\\left(\\frac{\\alpha_i}{C-\\alpha_i}\\right)) = C\\displaystyle\\sum_{i=0}^{n-1}\\log\\left(\\frac{C}{C-\\alpha_i}\\right)$$\n",
        "$$\\displaystyle\\sum_{i=0}^{n-1}\\alpha_i (\\xi_i + y_i(\\mathbf w^T\\phi(\\mathbf x_i) + b)) = \\displaystyle\\sum_{i=0}^{n-1}\\alpha_i\\xi_i + \\displaystyle\\sum_{i=0}^{n-1}\\alpha_iy_if(\\mathbf w, \\mathbf x, b)$$\n",
        "$$\\tag 3 = \\displaystyle\\sum_{i=0}^{n-1}\\alpha_i\\xi_i = \\displaystyle\\sum_{i=0}^{n-1}\\alpha_i\\log\\left(\\frac{\\alpha_i}{C-\\alpha_i}\\right)$$\n",
        "$$\\mathcal L_D= (1)+(2)-(3)$$\n",
        "\n",
        "Here, $K(x_i, x_j) = \\phi(x_i)\\phi(x_j)^T$ is the kernel function that maps the input data to a higher-dimensional feature space."
      ],
      "metadata": {
        "id": "YI2t0mOJPUK4"
      }
    },
    {
      "cell_type": "code",
      "execution_count": null,
      "metadata": {
        "id": "d1oedVTwvKHW"
      },
      "outputs": [],
      "source": [
        "def preprocess(data):\n",
        "    # Separate the features and class \n",
        "    X = data.drop('target', axis=1)\n",
        "    y = data['target']\n",
        "\n",
        "    # y has labels 0 and 1. Convert them to -1 and 1\n",
        "    y = 2 * y - 1\n",
        "\n",
        "    # Split the data into training and testing sets\n",
        "    X_train, X_test, y_train, y_test = train_test_split(X, y, test_size=0.2, random_state=0)\n",
        "\n",
        "    # index of the splits are randomized. Reset the index\n",
        "    X_train = X_train.reset_index(drop=True)\n",
        "    X_test = X_test.reset_index(drop=True)\n",
        "    y_train = y_train.reset_index(drop=True)\n",
        "    y_test = y_test.reset_index(drop=True)\n",
        "\n",
        "\n",
        "    # Normalize the data\n",
        "    X_train = (X_train - X_train.mean()) / X_train.std()\n",
        "    X_test = (X_test - X_test.mean()) / X_test.std()\n",
        "\n",
        "    # convert the dataframes to numpy arrays\n",
        "    X_train = X_train.values\n",
        "    X_test = X_test.values\n",
        "    y_train = y_train.values\n",
        "    y_test = y_test.values\n",
        "\n",
        "    return X_train, X_test, y_train, y_test"
      ]
    },
    {
      "cell_type": "code",
      "execution_count": null,
      "metadata": {
        "id": "gHte9RZ_iIpI"
      },
      "outputs": [],
      "source": [
        "# Define the SVM class\n",
        "class SVM_classifier:\n",
        "    # Constructor takes the necessary hyper-parameters like C, the kernel type and the hyper-parameters related to the kernels as input and initialize the module\n",
        "    def __init__(self, kernel='linear', C=1, degree=3, gamma=0.5):\n",
        "        self.kernel = kernel\n",
        "        self.C = C\n",
        "        self.degree = degree\n",
        "        self.gamma = gamma\n",
        "\n",
        "    # Take the train data as input and learn the parameters\n",
        "    def fit(self, X, y):\n",
        "        # Define the kernel function\n",
        "        def kernel(x1, x2):\n",
        "            if self.kernel == 'linear':\n",
        "                return np.dot(x1, x2)\n",
        "            elif self.kernel == 'poly':\n",
        "                return (np.dot(x1, x2) + 1) ** self.degree\n",
        "            elif self.kernel == 'rbf':\n",
        "                # return np.exp(-self.gamma * np.dot(x1 - x2, x1 - x2))\n",
        "                return np.exp(-self.gamma * (np.linalg.norm(x1 - x2) ** 2))\n",
        "            \n",
        "        # Define the objective function\n",
        "        def objective(a, K):\n",
        "            return 0.5 * np.sum(np.outer(a, a) * np.outer(y, y) * K) + self.C * np.sum(np.log(self.C / (self.C - a))) + np.sum(a * np.log(a / (self.C - a)))\n",
        "        \n",
        "        # Define the constraint functions\n",
        "        def zerofun(a):\n",
        "            return np.dot(a, y)\n",
        "        \n",
        "        # Define the kernel matrix\n",
        "        n_samples, n_features = X.shape\n",
        "        K = np.zeros((n_samples, n_samples))\n",
        "        for i in range(n_samples):\n",
        "            for j in range(n_samples):\n",
        "                K[i, j] = kernel(X[i], X[j])\n",
        "\n",
        "        # use scipy.optimize.minimize to solve the quadratic programming problem\n",
        "        # define the initial values of the lagrange multipliers\n",
        "        init_a = np.full(n_samples, self.C/2)\n",
        "\n",
        "        # define the bounds for the lagrange multipliers\n",
        "        bounds = [(0, self.C) for _ in range(n_samples)]\n",
        "\n",
        "        # define the constraints\n",
        "        constraints = {'type': 'ineq', 'fun': zerofun}\n",
        "\n",
        "        # minimize the objective function\n",
        "        res = minimize(objective, init_a, args=(K,), method='SLSQP', bounds=bounds, constraints=constraints)\n",
        "\n",
        "        # get the lagrange multipliers\n",
        "        a = res.x\n",
        "\n",
        "        # print(\"The lagrange multipliers are: \", a)\n",
        "\n",
        "        # Get the support vectors\n",
        "        sv = a > 1e-5\n",
        "        ind = np.arange(len(a))[sv]\n",
        "\n",
        "        # save the support vectors\n",
        "        self.a = a[sv]\n",
        "        self.sv = X[sv]\n",
        "        self.sv_y = y[sv]\n",
        "\n",
        "        # Get the intercept\n",
        "        self.b = 0\n",
        "        for n in range(len(a)):\n",
        "            self.b += self.sv_y[n]\n",
        "            self.b -= np.sum(self.a * self.sv_y * K[ind[n], sv])\n",
        "        self.b /= len(a)\n",
        "\n",
        "\n",
        "    # take the test data as input and return the predictions on the data\n",
        "    def predict(self, X):\n",
        "        y_pred = np.zeros(len(X))\n",
        "        for i in range(len(X)):\n",
        "            s = 0\n",
        "            for a, sv_y, sv in zip(self.a, self.sv_y, self.sv):\n",
        "                if self.kernel == 'linear':\n",
        "                    s += a * sv_y * np.dot(X[i], sv)\n",
        "                elif self.kernel == 'poly':\n",
        "                    s += a * sv_y * (np.dot(X[i], sv) + 1) ** self.degree\n",
        "                elif self.kernel == 'rbf':\n",
        "                    s += a * sv_y * np.exp(-self.gamma * np.linalg.norm(X[i] - sv) ** 2)\n",
        "            y_pred[i] = s\n",
        "        return np.sign(y_pred + self.b)\n",
        "    "
      ]
    },
    {
      "cell_type": "code",
      "source": [
        "# Takes data and the kernel type as input and loops through different values of C and returns the optimal value of C\n",
        "def get_optimal_C(X, y, kernel):\n",
        "\n",
        "    # split the data into training and validation data in ratio 90:10\n",
        "    X_train, X_test, y_train, y_test = train_test_split(X, y, test_size=0.1, random_state=42)\n",
        "\n",
        "    # define the list of values of C\n",
        "    C_list = [0.01, 0.1, 1, 10, 100]\n",
        "\n",
        "    opt_c = 0\n",
        "    max_acc = 0\n",
        "    opt_deg = 0\n",
        "    opt_gamma = 0\n",
        "\n",
        "    acc_vals = []\n",
        "\n",
        "    # loop through the values of C\n",
        "    if kernel=='linear':\n",
        "        for c in C_list:\n",
        "            # initialize the svm class\n",
        "            svm = SVM_classifier(kernel=kernel, C=c)\n",
        "\n",
        "            # fit the model\n",
        "            svm.fit(X_train, y_train)\n",
        "\n",
        "            # predict the labels on the test data\n",
        "            y_pred = svm.predict(X_test)\n",
        "\n",
        "            # get the classification report\n",
        "            report = classification_report(y_test, y_pred, output_dict=True)\n",
        "\n",
        "            # get the accuracy\n",
        "            acc = report['accuracy']\n",
        "            acc_vals.append(acc)\n",
        "\n",
        "            # check if the accuracy is greater than the maximum accuracy\n",
        "            if acc > max_acc:\n",
        "                max_acc = acc\n",
        "                opt_c = c\n",
        "            \n",
        "            print(\"C =\", c, 'accuracy =', acc)\n",
        "        # End for\n",
        "        \n",
        "    elif kernel=='poly':\n",
        "        for degree in [2, 3, 5, 7]:\n",
        "            for c in C_list:\n",
        "                # initialize the svm class\n",
        "                svm = SVM_classifier(kernel=kernel, C=c, degree=degree)\n",
        "\n",
        "                # fit the model\n",
        "                svm.fit(X_train, y_train)\n",
        "\n",
        "                # predict the labels on the test data\n",
        "                y_pred = svm.predict(X_test)\n",
        "\n",
        "                # get the classification report\n",
        "                report = classification_report(y_test, y_pred, output_dict=True)\n",
        "\n",
        "                # get the accuracy\n",
        "                acc = report['accuracy']\n",
        "                acc_vals.append(acc)\n",
        "\n",
        "                # check if the accuracy is greater than the maximum accuracy\n",
        "                if acc > max_acc:\n",
        "                    max_acc = acc\n",
        "                    opt_c = c\n",
        "                    opt_deg = degree\n",
        "                print(\"C =\", c, 'degree =', degree, 'accuracy =', acc)\n",
        "            # End for\n",
        "        # End for\n",
        "\n",
        "    elif kernel=='rbf':\n",
        "        for gamma in [0.01, 0.1, 0.5, 2]:\n",
        "            for c in C_list:\n",
        "                # initialize the svm class\n",
        "                svm = SVM_classifier(kernel=kernel, C=c, gamma=gamma)\n",
        "\n",
        "                # fit the model\n",
        "                svm.fit(X_train, y_train)\n",
        "\n",
        "                # predict the labels on the test data\n",
        "                y_pred = svm.predict(X_test)\n",
        "\n",
        "                # get the classification report\n",
        "                report = classification_report(y_test, y_pred, output_dict=True)\n",
        "\n",
        "                # get the accuracy\n",
        "                acc = report['accuracy']\n",
        "                acc_vals.append(acc)\n",
        "\n",
        "                # check if the accuracy is greater than the maximum accuracy\n",
        "                if acc > max_acc:\n",
        "                    max_acc = acc\n",
        "                    opt_c = c\n",
        "                    opt_gamma = gamma     \n",
        "                print(\"C =\", c, 'gamma =', gamma, 'accuracy =', acc)\n",
        "            # End for\n",
        "        # End for     \n",
        "    print('Optimal hyperparameters:')\n",
        "    print(\"C =\", opt_c)\n",
        "    if opt_deg != 0:\n",
        "        print(\"Degree =\", opt_deg)\n",
        "    if opt_gamma != 0:\n",
        "        print(\"Gamma =\", opt_gamma)\n",
        "\n",
        "    return opt_c, max_acc, opt_deg, opt_gamma\n",
        "        "
      ],
      "metadata": {
        "id": "Mg0sk-6JkZFt"
      },
      "execution_count": null,
      "outputs": []
    },
    {
      "cell_type": "markdown",
      "source": [
        "## Driver Code"
      ],
      "metadata": {
        "id": "s_nKXhDsP68i"
      }
    },
    {
      "cell_type": "code",
      "source": [
        "def print_report(X_train, y_train, X_test, y_test, kernel):\n",
        "    C_opt, acc, degree_opt, gamma_opt = get_optimal_C(X_train, y_train, kernel=kernel)\n",
        "    svm = SVM_classifier(kernel=kernel, C=C_opt, degree=degree_opt, gamma=gamma_opt)\n",
        "    svm.fit(X_train, y_train)\n",
        "    y_pred = svm.predict(X_test)\n",
        "    out = classification_report(y_test, y_pred, output_dict=True)\n",
        "    print(pd.DataFrame(out).drop(['accuracy'], axis=1))\n",
        "    print(\"accuracy:\", out['accuracy'])\n",
        "    print()\n",
        "    "
      ],
      "metadata": {
        "id": "dWS_aS0rs4dk"
      },
      "execution_count": null,
      "outputs": []
    },
    {
      "cell_type": "code",
      "execution_count": null,
      "metadata": {
        "colab": {
          "base_uri": "https://localhost:8080/",
          "height": 206
        },
        "id": "DUMAElbtuUuM",
        "outputId": "4d24651f-c066-489e-eac9-c9276b5a92e7"
      },
      "outputs": [
        {
          "output_type": "execute_result",
          "data": {
            "text/plain": [
              "   age  sex  cp  trestbps  chol  fbs  restecg  thalach  exang  oldpeak  slope  \\\n",
              "0   52    1   0       125   212    0        1      168      0      1.0      2   \n",
              "1   53    1   0       140   203    1        0      155      1      3.1      0   \n",
              "2   70    1   0       145   174    0        1      125      1      2.6      0   \n",
              "3   61    1   0       148   203    0        1      161      0      0.0      2   \n",
              "4   62    0   0       138   294    1        1      106      0      1.9      1   \n",
              "\n",
              "   ca  thal  target  \n",
              "0   2     3       0  \n",
              "1   0     3       0  \n",
              "2   0     3       0  \n",
              "3   1     3       0  \n",
              "4   3     2       0  "
            ],
            "text/html": [
              "\n",
              "  <div id=\"df-4956460c-7ea9-42ec-be95-0a7da521cba6\">\n",
              "    <div class=\"colab-df-container\">\n",
              "      <div>\n",
              "<style scoped>\n",
              "    .dataframe tbody tr th:only-of-type {\n",
              "        vertical-align: middle;\n",
              "    }\n",
              "\n",
              "    .dataframe tbody tr th {\n",
              "        vertical-align: top;\n",
              "    }\n",
              "\n",
              "    .dataframe thead th {\n",
              "        text-align: right;\n",
              "    }\n",
              "</style>\n",
              "<table border=\"1\" class=\"dataframe\">\n",
              "  <thead>\n",
              "    <tr style=\"text-align: right;\">\n",
              "      <th></th>\n",
              "      <th>age</th>\n",
              "      <th>sex</th>\n",
              "      <th>cp</th>\n",
              "      <th>trestbps</th>\n",
              "      <th>chol</th>\n",
              "      <th>fbs</th>\n",
              "      <th>restecg</th>\n",
              "      <th>thalach</th>\n",
              "      <th>exang</th>\n",
              "      <th>oldpeak</th>\n",
              "      <th>slope</th>\n",
              "      <th>ca</th>\n",
              "      <th>thal</th>\n",
              "      <th>target</th>\n",
              "    </tr>\n",
              "  </thead>\n",
              "  <tbody>\n",
              "    <tr>\n",
              "      <th>0</th>\n",
              "      <td>52</td>\n",
              "      <td>1</td>\n",
              "      <td>0</td>\n",
              "      <td>125</td>\n",
              "      <td>212</td>\n",
              "      <td>0</td>\n",
              "      <td>1</td>\n",
              "      <td>168</td>\n",
              "      <td>0</td>\n",
              "      <td>1.0</td>\n",
              "      <td>2</td>\n",
              "      <td>2</td>\n",
              "      <td>3</td>\n",
              "      <td>0</td>\n",
              "    </tr>\n",
              "    <tr>\n",
              "      <th>1</th>\n",
              "      <td>53</td>\n",
              "      <td>1</td>\n",
              "      <td>0</td>\n",
              "      <td>140</td>\n",
              "      <td>203</td>\n",
              "      <td>1</td>\n",
              "      <td>0</td>\n",
              "      <td>155</td>\n",
              "      <td>1</td>\n",
              "      <td>3.1</td>\n",
              "      <td>0</td>\n",
              "      <td>0</td>\n",
              "      <td>3</td>\n",
              "      <td>0</td>\n",
              "    </tr>\n",
              "    <tr>\n",
              "      <th>2</th>\n",
              "      <td>70</td>\n",
              "      <td>1</td>\n",
              "      <td>0</td>\n",
              "      <td>145</td>\n",
              "      <td>174</td>\n",
              "      <td>0</td>\n",
              "      <td>1</td>\n",
              "      <td>125</td>\n",
              "      <td>1</td>\n",
              "      <td>2.6</td>\n",
              "      <td>0</td>\n",
              "      <td>0</td>\n",
              "      <td>3</td>\n",
              "      <td>0</td>\n",
              "    </tr>\n",
              "    <tr>\n",
              "      <th>3</th>\n",
              "      <td>61</td>\n",
              "      <td>1</td>\n",
              "      <td>0</td>\n",
              "      <td>148</td>\n",
              "      <td>203</td>\n",
              "      <td>0</td>\n",
              "      <td>1</td>\n",
              "      <td>161</td>\n",
              "      <td>0</td>\n",
              "      <td>0.0</td>\n",
              "      <td>2</td>\n",
              "      <td>1</td>\n",
              "      <td>3</td>\n",
              "      <td>0</td>\n",
              "    </tr>\n",
              "    <tr>\n",
              "      <th>4</th>\n",
              "      <td>62</td>\n",
              "      <td>0</td>\n",
              "      <td>0</td>\n",
              "      <td>138</td>\n",
              "      <td>294</td>\n",
              "      <td>1</td>\n",
              "      <td>1</td>\n",
              "      <td>106</td>\n",
              "      <td>0</td>\n",
              "      <td>1.9</td>\n",
              "      <td>1</td>\n",
              "      <td>3</td>\n",
              "      <td>2</td>\n",
              "      <td>0</td>\n",
              "    </tr>\n",
              "  </tbody>\n",
              "</table>\n",
              "</div>\n",
              "      <button class=\"colab-df-convert\" onclick=\"convertToInteractive('df-4956460c-7ea9-42ec-be95-0a7da521cba6')\"\n",
              "              title=\"Convert this dataframe to an interactive table.\"\n",
              "              style=\"display:none;\">\n",
              "        \n",
              "  <svg xmlns=\"http://www.w3.org/2000/svg\" height=\"24px\"viewBox=\"0 0 24 24\"\n",
              "       width=\"24px\">\n",
              "    <path d=\"M0 0h24v24H0V0z\" fill=\"none\"/>\n",
              "    <path d=\"M18.56 5.44l.94 2.06.94-2.06 2.06-.94-2.06-.94-.94-2.06-.94 2.06-2.06.94zm-11 1L8.5 8.5l.94-2.06 2.06-.94-2.06-.94L8.5 2.5l-.94 2.06-2.06.94zm10 10l.94 2.06.94-2.06 2.06-.94-2.06-.94-.94-2.06-.94 2.06-2.06.94z\"/><path d=\"M17.41 7.96l-1.37-1.37c-.4-.4-.92-.59-1.43-.59-.52 0-1.04.2-1.43.59L10.3 9.45l-7.72 7.72c-.78.78-.78 2.05 0 2.83L4 21.41c.39.39.9.59 1.41.59.51 0 1.02-.2 1.41-.59l7.78-7.78 2.81-2.81c.8-.78.8-2.07 0-2.86zM5.41 20L4 18.59l7.72-7.72 1.47 1.35L5.41 20z\"/>\n",
              "  </svg>\n",
              "      </button>\n",
              "      \n",
              "  <style>\n",
              "    .colab-df-container {\n",
              "      display:flex;\n",
              "      flex-wrap:wrap;\n",
              "      gap: 12px;\n",
              "    }\n",
              "\n",
              "    .colab-df-convert {\n",
              "      background-color: #E8F0FE;\n",
              "      border: none;\n",
              "      border-radius: 50%;\n",
              "      cursor: pointer;\n",
              "      display: none;\n",
              "      fill: #1967D2;\n",
              "      height: 32px;\n",
              "      padding: 0 0 0 0;\n",
              "      width: 32px;\n",
              "    }\n",
              "\n",
              "    .colab-df-convert:hover {\n",
              "      background-color: #E2EBFA;\n",
              "      box-shadow: 0px 1px 2px rgba(60, 64, 67, 0.3), 0px 1px 3px 1px rgba(60, 64, 67, 0.15);\n",
              "      fill: #174EA6;\n",
              "    }\n",
              "\n",
              "    [theme=dark] .colab-df-convert {\n",
              "      background-color: #3B4455;\n",
              "      fill: #D2E3FC;\n",
              "    }\n",
              "\n",
              "    [theme=dark] .colab-df-convert:hover {\n",
              "      background-color: #434B5C;\n",
              "      box-shadow: 0px 1px 3px 1px rgba(0, 0, 0, 0.15);\n",
              "      filter: drop-shadow(0px 1px 2px rgba(0, 0, 0, 0.3));\n",
              "      fill: #FFFFFF;\n",
              "    }\n",
              "  </style>\n",
              "\n",
              "      <script>\n",
              "        const buttonEl =\n",
              "          document.querySelector('#df-4956460c-7ea9-42ec-be95-0a7da521cba6 button.colab-df-convert');\n",
              "        buttonEl.style.display =\n",
              "          google.colab.kernel.accessAllowed ? 'block' : 'none';\n",
              "\n",
              "        async function convertToInteractive(key) {\n",
              "          const element = document.querySelector('#df-4956460c-7ea9-42ec-be95-0a7da521cba6');\n",
              "          const dataTable =\n",
              "            await google.colab.kernel.invokeFunction('convertToInteractive',\n",
              "                                                     [key], {});\n",
              "          if (!dataTable) return;\n",
              "\n",
              "          const docLinkHtml = 'Like what you see? Visit the ' +\n",
              "            '<a target=\"_blank\" href=https://colab.research.google.com/notebooks/data_table.ipynb>data table notebook</a>'\n",
              "            + ' to learn more about interactive tables.';\n",
              "          element.innerHTML = '';\n",
              "          dataTable['output_type'] = 'display_data';\n",
              "          await google.colab.output.renderOutput(dataTable, element);\n",
              "          const docLink = document.createElement('div');\n",
              "          docLink.innerHTML = docLinkHtml;\n",
              "          element.appendChild(docLink);\n",
              "        }\n",
              "      </script>\n",
              "    </div>\n",
              "  </div>\n",
              "  "
            ]
          },
          "metadata": {},
          "execution_count": 6
        }
      ],
      "source": [
        "df = pd.read_csv('heart.csv')\n",
        "df.head()"
      ]
    },
    {
      "cell_type": "code",
      "execution_count": null,
      "metadata": {
        "id": "aDpl6JolxxvR"
      },
      "outputs": [],
      "source": [
        "X_train, X_test, y_train, y_test = preprocess(df)"
      ]
    },
    {
      "cell_type": "code",
      "source": [
        "# Linear kernel\n",
        "print_report(X_train, y_train, X_test, y_test, kernel='linear')"
      ],
      "metadata": {
        "colab": {
          "base_uri": "https://localhost:8080/"
        },
        "id": "yfI6oYcOrPIe",
        "outputId": "d668f7b6-61cc-4941-ef93-f8749547174c"
      },
      "execution_count": null,
      "outputs": [
        {
          "output_type": "stream",
          "name": "stderr",
          "text": [
            "<ipython-input-3-d1f8f67433db>:23: RuntimeWarning: divide by zero encountered in true_divide\n",
            "  return 0.5 * np.sum(np.outer(a, a) * np.outer(y, y) * K) + self.C * np.sum(np.log(self.C / (self.C - a))) + np.sum(a * np.log(a / (self.C - a)))\n",
            "<ipython-input-3-d1f8f67433db>:23: RuntimeWarning: divide by zero encountered in log\n",
            "  return 0.5 * np.sum(np.outer(a, a) * np.outer(y, y) * K) + self.C * np.sum(np.log(self.C / (self.C - a))) + np.sum(a * np.log(a / (self.C - a)))\n",
            "<ipython-input-3-d1f8f67433db>:23: RuntimeWarning: invalid value encountered in multiply\n",
            "  return 0.5 * np.sum(np.outer(a, a) * np.outer(y, y) * K) + self.C * np.sum(np.log(self.C / (self.C - a))) + np.sum(a * np.log(a / (self.C - a)))\n",
            "/usr/local/lib/python3.9/dist-packages/scipy/optimize/_optimize.py:353: RuntimeWarning: Values in x were outside bounds during a minimize step, clipping to bounds\n",
            "  warnings.warn(\"Values in x were outside bounds during a \"\n"
          ]
        },
        {
          "output_type": "stream",
          "name": "stdout",
          "text": [
            "C = 0.01 accuracy = 0.8536585365853658\n"
          ]
        },
        {
          "output_type": "stream",
          "name": "stderr",
          "text": [
            "<ipython-input-3-d1f8f67433db>:23: RuntimeWarning: divide by zero encountered in true_divide\n",
            "  return 0.5 * np.sum(np.outer(a, a) * np.outer(y, y) * K) + self.C * np.sum(np.log(self.C / (self.C - a))) + np.sum(a * np.log(a / (self.C - a)))\n",
            "<ipython-input-3-d1f8f67433db>:23: RuntimeWarning: divide by zero encountered in log\n",
            "  return 0.5 * np.sum(np.outer(a, a) * np.outer(y, y) * K) + self.C * np.sum(np.log(self.C / (self.C - a))) + np.sum(a * np.log(a / (self.C - a)))\n",
            "<ipython-input-3-d1f8f67433db>:23: RuntimeWarning: invalid value encountered in multiply\n",
            "  return 0.5 * np.sum(np.outer(a, a) * np.outer(y, y) * K) + self.C * np.sum(np.log(self.C / (self.C - a))) + np.sum(a * np.log(a / (self.C - a)))\n"
          ]
        }
      ]
    },
    {
      "cell_type": "code",
      "source": [
        "# Polynomial kernel\n",
        "print_report(X_train, y_train, X_test, y_test, kernel='poly')"
      ],
      "metadata": {
        "id": "70IPQl4osQ_l"
      },
      "execution_count": null,
      "outputs": []
    },
    {
      "cell_type": "code",
      "source": [
        "# RBF kernel\n",
        "print_report(X_train, y_train, X_test, y_test, kernel='rbf')"
      ],
      "metadata": {
        "id": "irz7Ax53sQqp",
        "colab": {
          "base_uri": "https://localhost:8080/"
        },
        "outputId": "a30be903-62ee-49ed-bf6a-0ca95eb41189"
      },
      "execution_count": null,
      "outputs": [
        {
          "output_type": "stream",
          "name": "stderr",
          "text": [
            "/usr/local/lib/python3.9/dist-packages/scipy/optimize/_optimize.py:353: RuntimeWarning: Values in x were outside bounds during a minimize step, clipping to bounds\n",
            "  warnings.warn(\"Values in x were outside bounds during a \"\n",
            "<ipython-input-41-d1f8f67433db>:23: RuntimeWarning: divide by zero encountered in true_divide\n",
            "  return 0.5 * np.sum(np.outer(a, a) * np.outer(y, y) * K) + self.C * np.sum(np.log(self.C / (self.C - a))) + np.sum(a * np.log(a / (self.C - a)))\n",
            "<ipython-input-41-d1f8f67433db>:23: RuntimeWarning: divide by zero encountered in log\n",
            "  return 0.5 * np.sum(np.outer(a, a) * np.outer(y, y) * K) + self.C * np.sum(np.log(self.C / (self.C - a))) + np.sum(a * np.log(a / (self.C - a)))\n",
            "<ipython-input-41-d1f8f67433db>:23: RuntimeWarning: invalid value encountered in multiply\n",
            "  return 0.5 * np.sum(np.outer(a, a) * np.outer(y, y) * K) + self.C * np.sum(np.log(self.C / (self.C - a))) + np.sum(a * np.log(a / (self.C - a)))\n"
          ]
        },
        {
          "output_type": "stream",
          "name": "stdout",
          "text": [
            "C = 0.01 gamma = 0.01 accuracy = 0.5975609756097561\n"
          ]
        },
        {
          "output_type": "stream",
          "name": "stderr",
          "text": [
            "<ipython-input-41-d1f8f67433db>:23: RuntimeWarning: divide by zero encountered in true_divide\n",
            "  return 0.5 * np.sum(np.outer(a, a) * np.outer(y, y) * K) + self.C * np.sum(np.log(self.C / (self.C - a))) + np.sum(a * np.log(a / (self.C - a)))\n",
            "<ipython-input-41-d1f8f67433db>:23: RuntimeWarning: divide by zero encountered in log\n",
            "  return 0.5 * np.sum(np.outer(a, a) * np.outer(y, y) * K) + self.C * np.sum(np.log(self.C / (self.C - a))) + np.sum(a * np.log(a / (self.C - a)))\n",
            "<ipython-input-41-d1f8f67433db>:23: RuntimeWarning: invalid value encountered in multiply\n",
            "  return 0.5 * np.sum(np.outer(a, a) * np.outer(y, y) * K) + self.C * np.sum(np.log(self.C / (self.C - a))) + np.sum(a * np.log(a / (self.C - a)))\n"
          ]
        },
        {
          "output_type": "stream",
          "name": "stdout",
          "text": [
            "C = 0.1 gamma = 0.01 accuracy = 0.8292682926829268\n"
          ]
        },
        {
          "output_type": "stream",
          "name": "stderr",
          "text": [
            "<ipython-input-41-d1f8f67433db>:23: RuntimeWarning: divide by zero encountered in true_divide\n",
            "  return 0.5 * np.sum(np.outer(a, a) * np.outer(y, y) * K) + self.C * np.sum(np.log(self.C / (self.C - a))) + np.sum(a * np.log(a / (self.C - a)))\n",
            "<ipython-input-41-d1f8f67433db>:23: RuntimeWarning: divide by zero encountered in log\n",
            "  return 0.5 * np.sum(np.outer(a, a) * np.outer(y, y) * K) + self.C * np.sum(np.log(self.C / (self.C - a))) + np.sum(a * np.log(a / (self.C - a)))\n",
            "<ipython-input-41-d1f8f67433db>:23: RuntimeWarning: invalid value encountered in multiply\n",
            "  return 0.5 * np.sum(np.outer(a, a) * np.outer(y, y) * K) + self.C * np.sum(np.log(self.C / (self.C - a))) + np.sum(a * np.log(a / (self.C - a)))\n"
          ]
        },
        {
          "output_type": "stream",
          "name": "stdout",
          "text": [
            "C = 1 gamma = 0.01 accuracy = 0.8414634146341463\n"
          ]
        },
        {
          "output_type": "stream",
          "name": "stderr",
          "text": [
            "<ipython-input-41-d1f8f67433db>:23: RuntimeWarning: divide by zero encountered in true_divide\n",
            "  return 0.5 * np.sum(np.outer(a, a) * np.outer(y, y) * K) + self.C * np.sum(np.log(self.C / (self.C - a))) + np.sum(a * np.log(a / (self.C - a)))\n",
            "<ipython-input-41-d1f8f67433db>:23: RuntimeWarning: divide by zero encountered in log\n",
            "  return 0.5 * np.sum(np.outer(a, a) * np.outer(y, y) * K) + self.C * np.sum(np.log(self.C / (self.C - a))) + np.sum(a * np.log(a / (self.C - a)))\n",
            "<ipython-input-41-d1f8f67433db>:23: RuntimeWarning: invalid value encountered in multiply\n",
            "  return 0.5 * np.sum(np.outer(a, a) * np.outer(y, y) * K) + self.C * np.sum(np.log(self.C / (self.C - a))) + np.sum(a * np.log(a / (self.C - a)))\n"
          ]
        },
        {
          "output_type": "stream",
          "name": "stdout",
          "text": [
            "C = 10 gamma = 0.01 accuracy = 0.8780487804878049\n"
          ]
        },
        {
          "output_type": "stream",
          "name": "stderr",
          "text": [
            "<ipython-input-41-d1f8f67433db>:23: RuntimeWarning: divide by zero encountered in true_divide\n",
            "  return 0.5 * np.sum(np.outer(a, a) * np.outer(y, y) * K) + self.C * np.sum(np.log(self.C / (self.C - a))) + np.sum(a * np.log(a / (self.C - a)))\n",
            "<ipython-input-41-d1f8f67433db>:23: RuntimeWarning: divide by zero encountered in log\n",
            "  return 0.5 * np.sum(np.outer(a, a) * np.outer(y, y) * K) + self.C * np.sum(np.log(self.C / (self.C - a))) + np.sum(a * np.log(a / (self.C - a)))\n",
            "<ipython-input-41-d1f8f67433db>:23: RuntimeWarning: invalid value encountered in multiply\n",
            "  return 0.5 * np.sum(np.outer(a, a) * np.outer(y, y) * K) + self.C * np.sum(np.log(self.C / (self.C - a))) + np.sum(a * np.log(a / (self.C - a)))\n"
          ]
        },
        {
          "output_type": "stream",
          "name": "stdout",
          "text": [
            "C = 100 gamma = 0.01 accuracy = 0.8902439024390244\n"
          ]
        },
        {
          "output_type": "stream",
          "name": "stderr",
          "text": [
            "/usr/local/lib/python3.9/dist-packages/scipy/optimize/_optimize.py:353: RuntimeWarning: Values in x were outside bounds during a minimize step, clipping to bounds\n",
            "  warnings.warn(\"Values in x were outside bounds during a \"\n",
            "<ipython-input-41-d1f8f67433db>:23: RuntimeWarning: divide by zero encountered in true_divide\n",
            "  return 0.5 * np.sum(np.outer(a, a) * np.outer(y, y) * K) + self.C * np.sum(np.log(self.C / (self.C - a))) + np.sum(a * np.log(a / (self.C - a)))\n",
            "<ipython-input-41-d1f8f67433db>:23: RuntimeWarning: divide by zero encountered in log\n",
            "  return 0.5 * np.sum(np.outer(a, a) * np.outer(y, y) * K) + self.C * np.sum(np.log(self.C / (self.C - a))) + np.sum(a * np.log(a / (self.C - a)))\n",
            "<ipython-input-41-d1f8f67433db>:23: RuntimeWarning: invalid value encountered in multiply\n",
            "  return 0.5 * np.sum(np.outer(a, a) * np.outer(y, y) * K) + self.C * np.sum(np.log(self.C / (self.C - a))) + np.sum(a * np.log(a / (self.C - a)))\n"
          ]
        },
        {
          "output_type": "stream",
          "name": "stdout",
          "text": [
            "C = 0.01 gamma = 0.1 accuracy = 0.7073170731707317\n"
          ]
        },
        {
          "output_type": "stream",
          "name": "stderr",
          "text": [
            "<ipython-input-41-d1f8f67433db>:23: RuntimeWarning: divide by zero encountered in log\n",
            "  return 0.5 * np.sum(np.outer(a, a) * np.outer(y, y) * K) + self.C * np.sum(np.log(self.C / (self.C - a))) + np.sum(a * np.log(a / (self.C - a)))\n",
            "<ipython-input-41-d1f8f67433db>:23: RuntimeWarning: invalid value encountered in multiply\n",
            "  return 0.5 * np.sum(np.outer(a, a) * np.outer(y, y) * K) + self.C * np.sum(np.log(self.C / (self.C - a))) + np.sum(a * np.log(a / (self.C - a)))\n",
            "<ipython-input-41-d1f8f67433db>:23: RuntimeWarning: divide by zero encountered in true_divide\n",
            "  return 0.5 * np.sum(np.outer(a, a) * np.outer(y, y) * K) + self.C * np.sum(np.log(self.C / (self.C - a))) + np.sum(a * np.log(a / (self.C - a)))\n"
          ]
        },
        {
          "output_type": "stream",
          "name": "stdout",
          "text": [
            "C = 0.1 gamma = 0.1 accuracy = 0.8536585365853658\n"
          ]
        },
        {
          "output_type": "stream",
          "name": "stderr",
          "text": [
            "<ipython-input-41-d1f8f67433db>:23: RuntimeWarning: divide by zero encountered in true_divide\n",
            "  return 0.5 * np.sum(np.outer(a, a) * np.outer(y, y) * K) + self.C * np.sum(np.log(self.C / (self.C - a))) + np.sum(a * np.log(a / (self.C - a)))\n",
            "<ipython-input-41-d1f8f67433db>:23: RuntimeWarning: divide by zero encountered in log\n",
            "  return 0.5 * np.sum(np.outer(a, a) * np.outer(y, y) * K) + self.C * np.sum(np.log(self.C / (self.C - a))) + np.sum(a * np.log(a / (self.C - a)))\n",
            "<ipython-input-41-d1f8f67433db>:23: RuntimeWarning: invalid value encountered in multiply\n",
            "  return 0.5 * np.sum(np.outer(a, a) * np.outer(y, y) * K) + self.C * np.sum(np.log(self.C / (self.C - a))) + np.sum(a * np.log(a / (self.C - a)))\n"
          ]
        },
        {
          "output_type": "stream",
          "name": "stdout",
          "text": [
            "C = 1 gamma = 0.1 accuracy = 0.9024390243902439\n"
          ]
        },
        {
          "output_type": "stream",
          "name": "stderr",
          "text": [
            "<ipython-input-41-d1f8f67433db>:23: RuntimeWarning: divide by zero encountered in true_divide\n",
            "  return 0.5 * np.sum(np.outer(a, a) * np.outer(y, y) * K) + self.C * np.sum(np.log(self.C / (self.C - a))) + np.sum(a * np.log(a / (self.C - a)))\n",
            "<ipython-input-41-d1f8f67433db>:23: RuntimeWarning: divide by zero encountered in log\n",
            "  return 0.5 * np.sum(np.outer(a, a) * np.outer(y, y) * K) + self.C * np.sum(np.log(self.C / (self.C - a))) + np.sum(a * np.log(a / (self.C - a)))\n",
            "<ipython-input-41-d1f8f67433db>:23: RuntimeWarning: invalid value encountered in multiply\n",
            "  return 0.5 * np.sum(np.outer(a, a) * np.outer(y, y) * K) + self.C * np.sum(np.log(self.C / (self.C - a))) + np.sum(a * np.log(a / (self.C - a)))\n"
          ]
        },
        {
          "output_type": "stream",
          "name": "stdout",
          "text": [
            "C = 10 gamma = 0.1 accuracy = 0.9634146341463414\n"
          ]
        },
        {
          "output_type": "stream",
          "name": "stderr",
          "text": [
            "<ipython-input-41-d1f8f67433db>:23: RuntimeWarning: divide by zero encountered in true_divide\n",
            "  return 0.5 * np.sum(np.outer(a, a) * np.outer(y, y) * K) + self.C * np.sum(np.log(self.C / (self.C - a))) + np.sum(a * np.log(a / (self.C - a)))\n",
            "<ipython-input-41-d1f8f67433db>:23: RuntimeWarning: divide by zero encountered in log\n",
            "  return 0.5 * np.sum(np.outer(a, a) * np.outer(y, y) * K) + self.C * np.sum(np.log(self.C / (self.C - a))) + np.sum(a * np.log(a / (self.C - a)))\n",
            "<ipython-input-41-d1f8f67433db>:23: RuntimeWarning: invalid value encountered in multiply\n",
            "  return 0.5 * np.sum(np.outer(a, a) * np.outer(y, y) * K) + self.C * np.sum(np.log(self.C / (self.C - a))) + np.sum(a * np.log(a / (self.C - a)))\n"
          ]
        },
        {
          "output_type": "stream",
          "name": "stdout",
          "text": [
            "C = 100 gamma = 0.1 accuracy = 1.0\n"
          ]
        },
        {
          "output_type": "stream",
          "name": "stderr",
          "text": [
            "/usr/local/lib/python3.9/dist-packages/scipy/optimize/_optimize.py:353: RuntimeWarning: Values in x were outside bounds during a minimize step, clipping to bounds\n",
            "  warnings.warn(\"Values in x were outside bounds during a \"\n",
            "<ipython-input-41-d1f8f67433db>:23: RuntimeWarning: divide by zero encountered in true_divide\n",
            "  return 0.5 * np.sum(np.outer(a, a) * np.outer(y, y) * K) + self.C * np.sum(np.log(self.C / (self.C - a))) + np.sum(a * np.log(a / (self.C - a)))\n",
            "<ipython-input-41-d1f8f67433db>:23: RuntimeWarning: divide by zero encountered in log\n",
            "  return 0.5 * np.sum(np.outer(a, a) * np.outer(y, y) * K) + self.C * np.sum(np.log(self.C / (self.C - a))) + np.sum(a * np.log(a / (self.C - a)))\n",
            "<ipython-input-41-d1f8f67433db>:23: RuntimeWarning: invalid value encountered in multiply\n",
            "  return 0.5 * np.sum(np.outer(a, a) * np.outer(y, y) * K) + self.C * np.sum(np.log(self.C / (self.C - a))) + np.sum(a * np.log(a / (self.C - a)))\n",
            "/usr/local/lib/python3.9/dist-packages/sklearn/metrics/_classification.py:1344: UndefinedMetricWarning: Precision and F-score are ill-defined and being set to 0.0 in labels with no predicted samples. Use `zero_division` parameter to control this behavior.\n",
            "  _warn_prf(average, modifier, msg_start, len(result))\n",
            "/usr/local/lib/python3.9/dist-packages/sklearn/metrics/_classification.py:1344: UndefinedMetricWarning: Precision and F-score are ill-defined and being set to 0.0 in labels with no predicted samples. Use `zero_division` parameter to control this behavior.\n",
            "  _warn_prf(average, modifier, msg_start, len(result))\n",
            "/usr/local/lib/python3.9/dist-packages/sklearn/metrics/_classification.py:1344: UndefinedMetricWarning: Precision and F-score are ill-defined and being set to 0.0 in labels with no predicted samples. Use `zero_division` parameter to control this behavior.\n",
            "  _warn_prf(average, modifier, msg_start, len(result))\n"
          ]
        },
        {
          "output_type": "stream",
          "name": "stdout",
          "text": [
            "C = 0.01 gamma = 0.5 accuracy = 0.4878048780487805\n"
          ]
        },
        {
          "output_type": "stream",
          "name": "stderr",
          "text": [
            "<ipython-input-41-d1f8f67433db>:23: RuntimeWarning: divide by zero encountered in true_divide\n",
            "  return 0.5 * np.sum(np.outer(a, a) * np.outer(y, y) * K) + self.C * np.sum(np.log(self.C / (self.C - a))) + np.sum(a * np.log(a / (self.C - a)))\n",
            "<ipython-input-41-d1f8f67433db>:23: RuntimeWarning: divide by zero encountered in log\n",
            "  return 0.5 * np.sum(np.outer(a, a) * np.outer(y, y) * K) + self.C * np.sum(np.log(self.C / (self.C - a))) + np.sum(a * np.log(a / (self.C - a)))\n",
            "<ipython-input-41-d1f8f67433db>:23: RuntimeWarning: invalid value encountered in multiply\n",
            "  return 0.5 * np.sum(np.outer(a, a) * np.outer(y, y) * K) + self.C * np.sum(np.log(self.C / (self.C - a))) + np.sum(a * np.log(a / (self.C - a)))\n"
          ]
        },
        {
          "output_type": "stream",
          "name": "stdout",
          "text": [
            "C = 0.1 gamma = 0.5 accuracy = 0.7804878048780488\n"
          ]
        },
        {
          "output_type": "stream",
          "name": "stderr",
          "text": [
            "<ipython-input-41-d1f8f67433db>:23: RuntimeWarning: divide by zero encountered in true_divide\n",
            "  return 0.5 * np.sum(np.outer(a, a) * np.outer(y, y) * K) + self.C * np.sum(np.log(self.C / (self.C - a))) + np.sum(a * np.log(a / (self.C - a)))\n",
            "<ipython-input-41-d1f8f67433db>:23: RuntimeWarning: divide by zero encountered in log\n",
            "  return 0.5 * np.sum(np.outer(a, a) * np.outer(y, y) * K) + self.C * np.sum(np.log(self.C / (self.C - a))) + np.sum(a * np.log(a / (self.C - a)))\n",
            "<ipython-input-41-d1f8f67433db>:23: RuntimeWarning: invalid value encountered in multiply\n",
            "  return 0.5 * np.sum(np.outer(a, a) * np.outer(y, y) * K) + self.C * np.sum(np.log(self.C / (self.C - a))) + np.sum(a * np.log(a / (self.C - a)))\n"
          ]
        },
        {
          "output_type": "stream",
          "name": "stdout",
          "text": [
            "C = 1 gamma = 0.5 accuracy = 1.0\n"
          ]
        },
        {
          "output_type": "stream",
          "name": "stderr",
          "text": [
            "<ipython-input-41-d1f8f67433db>:23: RuntimeWarning: divide by zero encountered in log\n",
            "  return 0.5 * np.sum(np.outer(a, a) * np.outer(y, y) * K) + self.C * np.sum(np.log(self.C / (self.C - a))) + np.sum(a * np.log(a / (self.C - a)))\n",
            "<ipython-input-41-d1f8f67433db>:23: RuntimeWarning: invalid value encountered in multiply\n",
            "  return 0.5 * np.sum(np.outer(a, a) * np.outer(y, y) * K) + self.C * np.sum(np.log(self.C / (self.C - a))) + np.sum(a * np.log(a / (self.C - a)))\n",
            "<ipython-input-41-d1f8f67433db>:23: RuntimeWarning: divide by zero encountered in true_divide\n",
            "  return 0.5 * np.sum(np.outer(a, a) * np.outer(y, y) * K) + self.C * np.sum(np.log(self.C / (self.C - a))) + np.sum(a * np.log(a / (self.C - a)))\n"
          ]
        },
        {
          "output_type": "stream",
          "name": "stdout",
          "text": [
            "C = 10 gamma = 0.5 accuracy = 1.0\n"
          ]
        },
        {
          "output_type": "stream",
          "name": "stderr",
          "text": [
            "<ipython-input-41-d1f8f67433db>:23: RuntimeWarning: divide by zero encountered in true_divide\n",
            "  return 0.5 * np.sum(np.outer(a, a) * np.outer(y, y) * K) + self.C * np.sum(np.log(self.C / (self.C - a))) + np.sum(a * np.log(a / (self.C - a)))\n",
            "<ipython-input-41-d1f8f67433db>:23: RuntimeWarning: divide by zero encountered in log\n",
            "  return 0.5 * np.sum(np.outer(a, a) * np.outer(y, y) * K) + self.C * np.sum(np.log(self.C / (self.C - a))) + np.sum(a * np.log(a / (self.C - a)))\n",
            "<ipython-input-41-d1f8f67433db>:23: RuntimeWarning: invalid value encountered in multiply\n",
            "  return 0.5 * np.sum(np.outer(a, a) * np.outer(y, y) * K) + self.C * np.sum(np.log(self.C / (self.C - a))) + np.sum(a * np.log(a / (self.C - a)))\n"
          ]
        },
        {
          "output_type": "stream",
          "name": "stdout",
          "text": [
            "C = 100 gamma = 0.5 accuracy = 1.0\n"
          ]
        },
        {
          "output_type": "stream",
          "name": "stderr",
          "text": [
            "/usr/local/lib/python3.9/dist-packages/scipy/optimize/_optimize.py:353: RuntimeWarning: Values in x were outside bounds during a minimize step, clipping to bounds\n",
            "  warnings.warn(\"Values in x were outside bounds during a \"\n",
            "<ipython-input-41-d1f8f67433db>:23: RuntimeWarning: divide by zero encountered in true_divide\n",
            "  return 0.5 * np.sum(np.outer(a, a) * np.outer(y, y) * K) + self.C * np.sum(np.log(self.C / (self.C - a))) + np.sum(a * np.log(a / (self.C - a)))\n",
            "<ipython-input-41-d1f8f67433db>:23: RuntimeWarning: divide by zero encountered in log\n",
            "  return 0.5 * np.sum(np.outer(a, a) * np.outer(y, y) * K) + self.C * np.sum(np.log(self.C / (self.C - a))) + np.sum(a * np.log(a / (self.C - a)))\n",
            "<ipython-input-41-d1f8f67433db>:23: RuntimeWarning: invalid value encountered in multiply\n",
            "  return 0.5 * np.sum(np.outer(a, a) * np.outer(y, y) * K) + self.C * np.sum(np.log(self.C / (self.C - a))) + np.sum(a * np.log(a / (self.C - a)))\n",
            "/usr/local/lib/python3.9/dist-packages/sklearn/metrics/_classification.py:1344: UndefinedMetricWarning: Precision and F-score are ill-defined and being set to 0.0 in labels with no predicted samples. Use `zero_division` parameter to control this behavior.\n",
            "  _warn_prf(average, modifier, msg_start, len(result))\n",
            "/usr/local/lib/python3.9/dist-packages/sklearn/metrics/_classification.py:1344: UndefinedMetricWarning: Precision and F-score are ill-defined and being set to 0.0 in labels with no predicted samples. Use `zero_division` parameter to control this behavior.\n",
            "  _warn_prf(average, modifier, msg_start, len(result))\n",
            "/usr/local/lib/python3.9/dist-packages/sklearn/metrics/_classification.py:1344: UndefinedMetricWarning: Precision and F-score are ill-defined and being set to 0.0 in labels with no predicted samples. Use `zero_division` parameter to control this behavior.\n",
            "  _warn_prf(average, modifier, msg_start, len(result))\n"
          ]
        },
        {
          "output_type": "stream",
          "name": "stdout",
          "text": [
            "C = 0.01 gamma = 2 accuracy = 0.4878048780487805\n"
          ]
        },
        {
          "output_type": "stream",
          "name": "stderr",
          "text": [
            "<ipython-input-41-d1f8f67433db>:23: RuntimeWarning: divide by zero encountered in log\n",
            "  return 0.5 * np.sum(np.outer(a, a) * np.outer(y, y) * K) + self.C * np.sum(np.log(self.C / (self.C - a))) + np.sum(a * np.log(a / (self.C - a)))\n",
            "<ipython-input-41-d1f8f67433db>:23: RuntimeWarning: invalid value encountered in multiply\n",
            "  return 0.5 * np.sum(np.outer(a, a) * np.outer(y, y) * K) + self.C * np.sum(np.log(self.C / (self.C - a))) + np.sum(a * np.log(a / (self.C - a)))\n",
            "<ipython-input-41-d1f8f67433db>:23: RuntimeWarning: divide by zero encountered in true_divide\n",
            "  return 0.5 * np.sum(np.outer(a, a) * np.outer(y, y) * K) + self.C * np.sum(np.log(self.C / (self.C - a))) + np.sum(a * np.log(a / (self.C - a)))\n"
          ]
        },
        {
          "output_type": "stream",
          "name": "stdout",
          "text": [
            "C = 0.1 gamma = 2 accuracy = 0.6219512195121951\n"
          ]
        },
        {
          "output_type": "stream",
          "name": "stderr",
          "text": [
            "<ipython-input-41-d1f8f67433db>:23: RuntimeWarning: divide by zero encountered in log\n",
            "  return 0.5 * np.sum(np.outer(a, a) * np.outer(y, y) * K) + self.C * np.sum(np.log(self.C / (self.C - a))) + np.sum(a * np.log(a / (self.C - a)))\n",
            "<ipython-input-41-d1f8f67433db>:23: RuntimeWarning: invalid value encountered in multiply\n",
            "  return 0.5 * np.sum(np.outer(a, a) * np.outer(y, y) * K) + self.C * np.sum(np.log(self.C / (self.C - a))) + np.sum(a * np.log(a / (self.C - a)))\n"
          ]
        },
        {
          "output_type": "stream",
          "name": "stdout",
          "text": [
            "C = 1 gamma = 2 accuracy = 0.975609756097561\n"
          ]
        },
        {
          "output_type": "stream",
          "name": "stderr",
          "text": [
            "<ipython-input-41-d1f8f67433db>:23: RuntimeWarning: divide by zero encountered in log\n",
            "  return 0.5 * np.sum(np.outer(a, a) * np.outer(y, y) * K) + self.C * np.sum(np.log(self.C / (self.C - a))) + np.sum(a * np.log(a / (self.C - a)))\n",
            "<ipython-input-41-d1f8f67433db>:23: RuntimeWarning: invalid value encountered in multiply\n",
            "  return 0.5 * np.sum(np.outer(a, a) * np.outer(y, y) * K) + self.C * np.sum(np.log(self.C / (self.C - a))) + np.sum(a * np.log(a / (self.C - a)))\n"
          ]
        },
        {
          "output_type": "stream",
          "name": "stdout",
          "text": [
            "C = 10 gamma = 2 accuracy = 0.975609756097561\n"
          ]
        },
        {
          "output_type": "stream",
          "name": "stderr",
          "text": [
            "<ipython-input-41-d1f8f67433db>:23: RuntimeWarning: divide by zero encountered in log\n",
            "  return 0.5 * np.sum(np.outer(a, a) * np.outer(y, y) * K) + self.C * np.sum(np.log(self.C / (self.C - a))) + np.sum(a * np.log(a / (self.C - a)))\n",
            "<ipython-input-41-d1f8f67433db>:23: RuntimeWarning: invalid value encountered in multiply\n",
            "  return 0.5 * np.sum(np.outer(a, a) * np.outer(y, y) * K) + self.C * np.sum(np.log(self.C / (self.C - a))) + np.sum(a * np.log(a / (self.C - a)))\n"
          ]
        },
        {
          "output_type": "stream",
          "name": "stdout",
          "text": [
            "C = 100 gamma = 2 accuracy = 0.9634146341463414\n",
            "Optimal hyperparameters:\n",
            "C = 100\n",
            "Gamma = 0.1\n"
          ]
        },
        {
          "output_type": "stream",
          "name": "stderr",
          "text": [
            "<ipython-input-41-d1f8f67433db>:23: RuntimeWarning: divide by zero encountered in true_divide\n",
            "  return 0.5 * np.sum(np.outer(a, a) * np.outer(y, y) * K) + self.C * np.sum(np.log(self.C / (self.C - a))) + np.sum(a * np.log(a / (self.C - a)))\n",
            "<ipython-input-41-d1f8f67433db>:23: RuntimeWarning: divide by zero encountered in log\n",
            "  return 0.5 * np.sum(np.outer(a, a) * np.outer(y, y) * K) + self.C * np.sum(np.log(self.C / (self.C - a))) + np.sum(a * np.log(a / (self.C - a)))\n",
            "<ipython-input-41-d1f8f67433db>:23: RuntimeWarning: invalid value encountered in multiply\n",
            "  return 0.5 * np.sum(np.outer(a, a) * np.outer(y, y) * K) + self.C * np.sum(np.log(self.C / (self.C - a))) + np.sum(a * np.log(a / (self.C - a)))\n"
          ]
        },
        {
          "output_type": "stream",
          "name": "stdout",
          "text": [
            "             -1      1  macro avg  weighted avg\n",
            "precision   1.0    1.0        1.0           1.0\n",
            "recall      1.0    1.0        1.0           1.0\n",
            "f1-score    1.0    1.0        1.0           1.0\n",
            "support    98.0  107.0      205.0         205.0\n",
            "accuracy: 1.0\n",
            "\n"
          ]
        }
      ]
    },
    {
      "cell_type": "code",
      "source": [
        "# LinearSVC module\n",
        "# initialize the LinearSVC class\n",
        "max_acc = 0\n",
        "for C in [0.01, 0.1, 1, 10, 100]:\n",
        "    clf = LinearSVC(C=C)\n",
        "\n",
        "    # fit the model\n",
        "    clf.fit(X_train, y_train)\n",
        "\n",
        "    # predict the labels on the test data\n",
        "    y_pred = clf.predict(X_test)\n",
        "\n",
        "    # convert numpy array to dataframe\n",
        "    y_pred = pd.DataFrame(y_pred)\n",
        "\n",
        "    # get the classification report\n",
        "    out = classification_report(y_test, y_pred, output_dict=True)\n",
        "    print(\"C =\", C)\n",
        "    print(pd.DataFrame(out).drop(['accuracy'], axis=1))\n",
        "    print(\"accuracy:\", out['accuracy'])\n",
        "    max_acc = max(max_acc, out['accuracy'])\n",
        "    print()\n",
        "\n",
        "print('Maximum accuracy by the LinearSVC model:', max_acc)"
      ],
      "metadata": {
        "id": "3WYdjCSSsQlk",
        "colab": {
          "base_uri": "https://localhost:8080/"
        },
        "outputId": "41cc4c6b-cf48-4139-da07-2e2e58d598d6"
      },
      "execution_count": null,
      "outputs": [
        {
          "output_type": "stream",
          "name": "stdout",
          "text": [
            "C = 0.01\n",
            "                  -1           1   macro avg  weighted avg\n",
            "precision   0.915663    0.819672    0.867667      0.865560\n",
            "recall      0.775510    0.934579    0.855045      0.858537\n",
            "f1-score    0.839779    0.873362    0.856571      0.857308\n",
            "support    98.000000  107.000000  205.000000    205.000000\n",
            "accuracy: 0.8585365853658536\n",
            "\n",
            "C = 0.1\n",
            "                  -1           1   macro avg  weighted avg\n",
            "precision   0.916667    0.826446    0.871556      0.869576\n",
            "recall      0.785714    0.934579    0.860147      0.863415\n",
            "f1-score    0.846154    0.877193    0.861673      0.862355\n",
            "support    98.000000  107.000000  205.000000    205.000000\n",
            "accuracy: 0.8634146341463415\n",
            "\n",
            "C = 1\n",
            "                  -1           1   macro avg  weighted avg\n",
            "precision   0.916667    0.826446    0.871556      0.869576\n",
            "recall      0.785714    0.934579    0.860147      0.863415\n",
            "f1-score    0.846154    0.877193    0.861673      0.862355\n",
            "support    98.000000  107.000000  205.000000    205.000000\n",
            "accuracy: 0.8634146341463415\n",
            "\n",
            "C = 10\n",
            "                  -1           1   macro avg  weighted avg\n",
            "precision   0.905882    0.825000    0.865441      0.863666\n",
            "recall      0.785714    0.925234    0.855474      0.858537\n",
            "f1-score    0.841530    0.872247    0.856888      0.857563\n",
            "support    98.000000  107.000000  205.000000    205.000000\n",
            "accuracy: 0.8585365853658536\n",
            "\n",
            "C = 100\n",
            "                  -1           1   macro avg  weighted avg\n",
            "precision   0.831461    0.793103    0.812282      0.811440\n",
            "recall      0.755102    0.859813    0.807458      0.809756\n",
            "f1-score    0.791444    0.825112    0.808278      0.809017\n",
            "support    98.000000  107.000000  205.000000    205.000000\n",
            "accuracy: 0.8097560975609757\n",
            "\n",
            "Maximum accuracy by the LinearSVC model: 0.8634146341463415\n"
          ]
        },
        {
          "output_type": "stream",
          "name": "stderr",
          "text": [
            "/usr/local/lib/python3.9/dist-packages/sklearn/svm/_base.py:1244: ConvergenceWarning: Liblinear failed to converge, increase the number of iterations.\n",
            "  warnings.warn(\n",
            "/usr/local/lib/python3.9/dist-packages/sklearn/svm/_base.py:1244: ConvergenceWarning: Liblinear failed to converge, increase the number of iterations.\n",
            "  warnings.warn(\n"
          ]
        }
      ]
    }
  ],
  "metadata": {
    "colab": {
      "provenance": []
    },
    "kernelspec": {
      "display_name": "Python 3",
      "name": "python3"
    },
    "language_info": {
      "name": "python"
    },
    "gpuClass": "standard"
  },
  "nbformat": 4,
  "nbformat_minor": 0
}