{
 "cells": [
  {
   "cell_type": "markdown",
   "metadata": {
    "id": "julfKbsJG5JK"
   },
   "source": [
    "# Group Number 31\n",
    "### 20EC30063 : Avi Amalanshu\n",
    "### 20CS30064 : Anamitra Mukhopadhyay\n",
    "### 22CS30R79 : Chavle Abhishek Shivanand\n",
    "## Project Code : RVNB\n",
    "## Project Title : Classification of Rice Varieties using Gaussian Naive Bayes Learning Model"
   ]
  },
  {
   "cell_type": "code",
   "execution_count": 1,
   "metadata": {
    "id": "jNRYdqtCGxVk"
   },
   "outputs": [],
   "source": [
    "# imports\n",
    "import numpy as np # linear algebra\n",
    "import pandas as pd # data processing, CSV file I/O \n",
    "from sklearn.model_selection import train_test_split\n",
    "from sklearn.metrics import accuracy_score\n",
    "from sklearn.metrics import classification_report\n",
    "from sklearn.model_selection import KFold\n",
    "from sklearn import naive_bayes # sklearn Naive Bayes\n",
    "from sklearn.naive_bayes import GaussianNB # sklearn Gaussian Naive Bayes\n",
    "import operator\n",
    "from math import log\n",
    "from collections import Counter\n",
    "from statistics import mean"
   ]
  },
  {
   "cell_type": "code",
   "execution_count": 2,
   "metadata": {
    "colab": {
     "base_uri": "https://localhost:8080/"
    },
    "id": "2JZxPvnx1py5",
    "outputId": "339e9a4d-8242-4480-d2b5-f2cb9edd000a"
   },
   "outputs": [],
   "source": [
    "# from google.colab import drive\n",
    "# drive.mount('/content/drive')"
   ]
  },
  {
   "cell_type": "code",
   "execution_count": 3,
   "metadata": {
    "id": "Hg1GugOBK3q2"
   },
   "outputs": [],
   "source": [
    "# The model\n",
    "class GNB_binary():\n",
    "    def __init__(self):\n",
    "        self.attrNo = 0\n",
    "        self.posmeans = []  # to store mean of positive class for each attribute\n",
    "        self.negmeans = []  # the same for negative class\n",
    "        self.posvars = []   # to store the variance of positive class for each attribute\n",
    "        self.negvars = []   # the same for negative class\n",
    "        self.const = 0      # the common term in the Gaussian Naive Bayes Formula\n",
    "        self.classes = []   # list of the class names, only 2 class names since the model supports binary classification only\n",
    "    \n",
    "    def fit(self, X_df, y_df):\n",
    "        self.attrNo = X_df.shape[1]\n",
    "        self.classes = list(y_df.iloc[:].unique())\n",
    "        self.const = log(y_df.iloc[:].value_counts()[self.classes[1]] / y_df.iloc[:].value_counts()[self.classes[0]])\n",
    "\n",
    "        df = pd.concat([X_df, y_df], axis=\"columns\")\n",
    "\n",
    "        for i in range(self.attrNo):\n",
    "            (self.posmeans).append(mean(df.loc[df['Class'] == self.classes[1]].iloc[:, i]))\n",
    "            (self.negmeans).append(mean(df.loc[df['Class'] == self.classes[0]].iloc[:, i]))\n",
    "            (self.posvars).append(mean(df.loc[df['Class'] == self.classes[1]].iloc[:, i].apply(lambda x: x*x)) - self.posmeans[i]**2)\n",
    "            (self.negvars).append(mean(df.loc[df['Class'] == self.classes[0]].iloc[:, i].apply(lambda x: x*x)) - self.negmeans[i]**2)\n",
    "            self.const += (log(self.negvars[i]) - log(self.posvars[i]) )/2\n",
    "\n",
    "    def predict_single(self, attributes):\n",
    "        ans = self.const\n",
    "        for i in range(self.attrNo):\n",
    "            ans += (attributes[i] - self.negmeans[i])**2/(2 * self.negvars[i]) - (attributes[i] - self.posmeans[i])**2/(2 * self.posvars[i])\n",
    "        return (self.classes[1] if ans > 0 else self.classes[0])\n",
    "    \n",
    "    def predict(self, X_test):\n",
    "        predictions = []\n",
    "        for i in range(X_test.shape[0]):\n",
    "            predictions.append(self.predict_single(X_test.iloc[i, :].values))\n",
    "        return predictions\n",
    "        "
   ]
  },
  {
   "cell_type": "code",
   "execution_count": 4,
   "metadata": {
    "id": "0xhyq_t9ijmU"
   },
   "outputs": [],
   "source": [
    "def test(y_pred, y_test):\n",
    "    out = classification_report(y_test, y_pred, output_dict = True)\n",
    "    print(pd.DataFrame(out).drop(['accuracy'], axis=1))\n",
    "    print(\"accuracy:\", out['accuracy'])\n",
    "    return pd.DataFrame(out).drop(['accuracy'], axis=1), out['accuracy']"
   ]
  },
  {
   "cell_type": "code",
   "execution_count": 5,
   "metadata": {
    "id": "c0bzOUJAsONx"
   },
   "outputs": [],
   "source": [
    "def x_val_5fold(X, y):\n",
    "    kf = KFold(n_splits=5)\n",
    "    i = 1\n",
    "    reports = []\n",
    "    avgs = []\n",
    "    for train_index, test_index in kf.split(X):\n",
    "        model = GNB_binary()\n",
    "        print(\"Fold #{}\\n============================================\".format(i))\n",
    "        X_train, X_test = X.iloc[train_index], X.iloc[test_index]\n",
    "        y_train, y_test = y.iloc[train_index], y.iloc[test_index]\n",
    "        model.fit(X_train, y_train)\n",
    "        y_pred = model.predict(X_test)\n",
    "        report, acc = test(y_pred, y_test)\n",
    "        reports.append(report)\n",
    "        avgs.append(acc)\n",
    "        i = i+1\n",
    "        print(\"============================================\")\n",
    "    reports_avg = (reports[0]+reports[1]+reports[2]+reports[3]+reports[4])/5\n",
    "    print(\"Average\\n============================================\\n{df}\".format(df=reports_avg))\n",
    "    print(\"============================================\")\n",
    "    print(\"Average Accuracy = {}\".format(np.average(avgs)))"
   ]
  },
  {
   "cell_type": "markdown",
   "metadata": {
    "id": "59Gt6YNydBtZ"
   },
   "source": [
    "### Loading the dataset"
   ]
  },
  {
   "cell_type": "code",
   "execution_count": 6,
   "metadata": {
    "colab": {
     "base_uri": "https://localhost:8080/",
     "height": 206
    },
    "id": "oX8_x9DrHE0W",
    "outputId": "c5d26075-5054-4295-ae0b-77bb3c3bb409"
   },
   "outputs": [
    {
     "data": {
      "text/html": [
       "<div>\n",
       "<style scoped>\n",
       "    .dataframe tbody tr th:only-of-type {\n",
       "        vertical-align: middle;\n",
       "    }\n",
       "\n",
       "    .dataframe tbody tr th {\n",
       "        vertical-align: top;\n",
       "    }\n",
       "\n",
       "    .dataframe thead th {\n",
       "        text-align: right;\n",
       "    }\n",
       "</style>\n",
       "<table border=\"1\" class=\"dataframe\">\n",
       "  <thead>\n",
       "    <tr style=\"text-align: right;\">\n",
       "      <th></th>\n",
       "      <th>Area</th>\n",
       "      <th>Perimeter</th>\n",
       "      <th>Major_Axis_Length</th>\n",
       "      <th>Minor_Axis_Length</th>\n",
       "      <th>Eccentricity</th>\n",
       "      <th>Convex_Area</th>\n",
       "      <th>Extent</th>\n",
       "      <th>Class</th>\n",
       "    </tr>\n",
       "  </thead>\n",
       "  <tbody>\n",
       "    <tr>\n",
       "      <th>0</th>\n",
       "      <td>15231</td>\n",
       "      <td>525.578979</td>\n",
       "      <td>229.749878</td>\n",
       "      <td>85.093788</td>\n",
       "      <td>0.928882</td>\n",
       "      <td>15617</td>\n",
       "      <td>0.572896</td>\n",
       "      <td>Cammeo</td>\n",
       "    </tr>\n",
       "    <tr>\n",
       "      <th>1</th>\n",
       "      <td>14656</td>\n",
       "      <td>494.311005</td>\n",
       "      <td>206.020065</td>\n",
       "      <td>91.730972</td>\n",
       "      <td>0.895405</td>\n",
       "      <td>15072</td>\n",
       "      <td>0.615436</td>\n",
       "      <td>Cammeo</td>\n",
       "    </tr>\n",
       "    <tr>\n",
       "      <th>2</th>\n",
       "      <td>14634</td>\n",
       "      <td>501.122009</td>\n",
       "      <td>214.106781</td>\n",
       "      <td>87.768288</td>\n",
       "      <td>0.912118</td>\n",
       "      <td>14954</td>\n",
       "      <td>0.693259</td>\n",
       "      <td>Cammeo</td>\n",
       "    </tr>\n",
       "    <tr>\n",
       "      <th>3</th>\n",
       "      <td>13176</td>\n",
       "      <td>458.342987</td>\n",
       "      <td>193.337387</td>\n",
       "      <td>87.448395</td>\n",
       "      <td>0.891861</td>\n",
       "      <td>13368</td>\n",
       "      <td>0.640669</td>\n",
       "      <td>Cammeo</td>\n",
       "    </tr>\n",
       "    <tr>\n",
       "      <th>4</th>\n",
       "      <td>14688</td>\n",
       "      <td>507.166992</td>\n",
       "      <td>211.743378</td>\n",
       "      <td>89.312454</td>\n",
       "      <td>0.906691</td>\n",
       "      <td>15262</td>\n",
       "      <td>0.646024</td>\n",
       "      <td>Cammeo</td>\n",
       "    </tr>\n",
       "  </tbody>\n",
       "</table>\n",
       "</div>"
      ],
      "text/plain": [
       "    Area   Perimeter  Major_Axis_Length  Minor_Axis_Length  Eccentricity  \\\n",
       "0  15231  525.578979         229.749878          85.093788      0.928882   \n",
       "1  14656  494.311005         206.020065          91.730972      0.895405   \n",
       "2  14634  501.122009         214.106781          87.768288      0.912118   \n",
       "3  13176  458.342987         193.337387          87.448395      0.891861   \n",
       "4  14688  507.166992         211.743378          89.312454      0.906691   \n",
       "\n",
       "   Convex_Area    Extent   Class  \n",
       "0        15617  0.572896  Cammeo  \n",
       "1        15072  0.615436  Cammeo  \n",
       "2        14954  0.693259  Cammeo  \n",
       "3        13368  0.640669  Cammeo  \n",
       "4        15262  0.646024  Cammeo  "
      ]
     },
     "execution_count": 6,
     "metadata": {},
     "output_type": "execute_result"
    }
   ],
   "source": [
    "#dir = '/content/drive/MyDrive/Tests-Assgns/ML Project1/'\n",
    "df = pd.read_csv('Rice_Cammeo_Osmancik.csv')\n",
    "df.head()"
   ]
  },
  {
   "cell_type": "markdown",
   "metadata": {
    "id": "uE16HCe_dFUX"
   },
   "source": [
    "### Train-test split"
   ]
  },
  {
   "cell_type": "code",
   "execution_count": 7,
   "metadata": {
    "id": "kQAV9qXvTg38"
   },
   "outputs": [],
   "source": [
    "X_train, X_test, y_train, y_test = train_test_split(df.iloc[:, :-1], df.iloc[:, -1], test_size = 0.3, random_state = 42)"
   ]
  },
  {
   "cell_type": "markdown",
   "metadata": {
    "id": "uGkbRAZmdI6v"
   },
   "source": [
    "### 5-fold cross validation"
   ]
  },
  {
   "cell_type": "code",
   "execution_count": 8,
   "metadata": {
    "colab": {
     "base_uri": "https://localhost:8080/"
    },
    "id": "OgjYEGxnuZwL",
    "outputId": "5fa4e54f-883d-4cea-ed93-354ceb118345"
   },
   "outputs": [
    {
     "name": "stdout",
     "output_type": "stream",
     "text": [
      "Fold #1\n",
      "============================================\n",
      "               Cammeo    Osmancik   macro avg  weighted avg\n",
      "precision    0.920398    0.912913    0.916655      0.915913\n",
      "recall       0.864486    0.950000    0.907243      0.915730\n",
      "f1-score     0.891566    0.931087    0.911327      0.915249\n",
      "support    214.000000  320.000000  534.000000    534.000000\n",
      "accuracy: 0.9157303370786517\n",
      "============================================\n",
      "Fold #2\n",
      "============================================\n",
      "               Cammeo    Osmancik   macro avg  weighted avg\n",
      "precision    0.919283    0.929260    0.924271      0.925019\n",
      "recall       0.903084    0.941368    0.922226      0.925094\n",
      "f1-score     0.911111    0.935275    0.923193      0.925003\n",
      "support    227.000000  307.000000  534.000000    534.000000\n",
      "accuracy: 0.9250936329588015\n",
      "============================================\n",
      "Fold #3\n",
      "============================================\n",
      "               Cammeo    Osmancik   macro avg  weighted avg\n",
      "precision    0.892241    0.933555    0.912898      0.915960\n",
      "recall       0.911894    0.918301    0.915097      0.915572\n",
      "f1-score     0.901961    0.925865    0.913913      0.915684\n",
      "support    227.000000  306.000000  533.000000    533.000000\n",
      "accuracy: 0.9155722326454033\n",
      "============================================\n",
      "Fold #4\n",
      "============================================\n",
      "               Cammeo    Osmancik   macro avg  weighted avg\n",
      "precision    0.899563    0.914474    0.907019      0.907984\n",
      "recall       0.887931    0.923588    0.905760      0.908068\n",
      "f1-score     0.893709    0.919008    0.906359      0.907996\n",
      "support    232.000000  301.000000  533.000000    533.000000\n",
      "accuracy: 0.9080675422138836\n",
      "============================================\n",
      "Fold #5\n",
      "============================================\n",
      "               Cammeo    Osmancik   macro avg  weighted avg\n",
      "precision    0.890995    0.925466    0.908231      0.911755\n",
      "recall       0.886792    0.928349    0.907571      0.911820\n",
      "f1-score     0.888889    0.926905    0.907897      0.911784\n",
      "support    212.000000  321.000000  533.000000    533.000000\n",
      "accuracy: 0.9118198874296435\n",
      "============================================\n",
      "Average\n",
      "============================================\n",
      "               Cammeo    Osmancik   macro avg  weighted avg\n",
      "precision    0.904496    0.923134    0.913815      0.915326\n",
      "recall       0.890837    0.932321    0.911579      0.915257\n",
      "f1-score     0.897447    0.927628    0.912538      0.915143\n",
      "support    222.400000  311.000000  533.400000    533.400000\n",
      "============================================\n",
      "Average Accuracy = 0.9152567264652767\n"
     ]
    }
   ],
   "source": [
    "x_val_5fold(X_train, y_train)"
   ]
  },
  {
   "cell_type": "markdown",
   "metadata": {
    "id": "ZDF1zeEydOFJ"
   },
   "source": [
    "### Training on whole training set and corresponding predictions"
   ]
  },
  {
   "cell_type": "code",
   "execution_count": 9,
   "metadata": {
    "colab": {
     "base_uri": "https://localhost:8080/"
    },
    "id": "y8ZAY0NJvmdC",
    "outputId": "4ea0a1e7-5358-4a7e-f70f-551706e209c0"
   },
   "outputs": [
    {
     "name": "stdout",
     "output_type": "stream",
     "text": [
      "               Cammeo    Osmancik    macro avg  weighted avg\n",
      "precision    0.932406    0.923438     0.927922      0.927502\n",
      "recall       0.905405    0.945600     0.925503      0.927384\n",
      "f1-score     0.918707    0.934387     0.926547      0.927281\n",
      "support    518.000000  625.000000  1143.000000   1143.000000\n",
      "accuracy: 0.9273840769903762\n"
     ]
    },
    {
     "data": {
      "text/plain": [
       "(               Cammeo    Osmancik    macro avg  weighted avg\n",
       " precision    0.932406    0.923438     0.927922      0.927502\n",
       " recall       0.905405    0.945600     0.925503      0.927384\n",
       " f1-score     0.918707    0.934387     0.926547      0.927281\n",
       " support    518.000000  625.000000  1143.000000   1143.000000,\n",
       " 0.9273840769903762)"
      ]
     },
     "execution_count": 9,
     "metadata": {},
     "output_type": "execute_result"
    }
   ],
   "source": [
    "nb_classifier = GNB_binary()\n",
    "nb_classifier.fit(X_train, y_train)\n",
    "y_pred_model = nb_classifier.predict(X_test)\n",
    "test(y_pred_model, y_test)"
   ]
  },
  {
   "cell_type": "markdown",
   "metadata": {
    "id": "OnKLRt3CdZFm"
   },
   "source": [
    "### Comparing our model to the sklearn GaussianNB model"
   ]
  },
  {
   "cell_type": "code",
   "execution_count": 10,
   "metadata": {
    "colab": {
     "base_uri": "https://localhost:8080/"
    },
    "id": "4GBKvFJ7sONy",
    "outputId": "31d6f9dd-3516-46b2-8dc3-c9929e760dbc",
    "scrolled": true
   },
   "outputs": [
    {
     "name": "stdout",
     "output_type": "stream",
     "text": [
      "               Cammeo    Osmancik    macro avg  weighted avg\n",
      "precision    0.920160    0.911215     0.915687      0.915269\n",
      "recall       0.889961    0.936000     0.912981      0.915136\n",
      "f1-score     0.904809    0.923441     0.914125      0.914997\n",
      "support    518.000000  625.000000  1143.000000   1143.000000\n",
      "accuracy: 0.9151356080489939\n"
     ]
    },
    {
     "data": {
      "text/plain": [
       "(               Cammeo    Osmancik    macro avg  weighted avg\n",
       " precision    0.920160    0.911215     0.915687      0.915269\n",
       " recall       0.889961    0.936000     0.912981      0.915136\n",
       " f1-score     0.904809    0.923441     0.914125      0.914997\n",
       " support    518.000000  625.000000  1143.000000   1143.000000,\n",
       " 0.9151356080489939)"
      ]
     },
     "execution_count": 10,
     "metadata": {},
     "output_type": "execute_result"
    }
   ],
   "source": [
    "nb_classifier_skl = GaussianNB()\n",
    "y_pred_skl = nb_classifier_skl.fit(X_train,y_train).predict(X_test)\n",
    "test(y_pred_skl, y_test)"
   ]
  },
  {
   "cell_type": "markdown",
   "metadata": {
    "id": "cPVRgm9deL5m"
   },
   "source": [
    "### Saving the output predictions of the test dataset of our model"
   ]
  },
  {
   "cell_type": "code",
   "execution_count": 11,
   "metadata": {
    "colab": {
     "base_uri": "https://localhost:8080/",
     "height": 206
    },
    "id": "BXXUipcvsONz",
    "outputId": "bf54f846-21d3-437f-9964-4fb8e3b798df"
   },
   "outputs": [
    {
     "data": {
      "text/html": [
       "<div>\n",
       "<style scoped>\n",
       "    .dataframe tbody tr th:only-of-type {\n",
       "        vertical-align: middle;\n",
       "    }\n",
       "\n",
       "    .dataframe tbody tr th {\n",
       "        vertical-align: top;\n",
       "    }\n",
       "\n",
       "    .dataframe thead th {\n",
       "        text-align: right;\n",
       "    }\n",
       "</style>\n",
       "<table border=\"1\" class=\"dataframe\">\n",
       "  <thead>\n",
       "    <tr style=\"text-align: right;\">\n",
       "      <th></th>\n",
       "      <th>Area</th>\n",
       "      <th>Perimeter</th>\n",
       "      <th>Major_Axis_Length</th>\n",
       "      <th>Minor_Axis_Length</th>\n",
       "      <th>Eccentricity</th>\n",
       "      <th>Convex_Area</th>\n",
       "      <th>Extent</th>\n",
       "      <th>Class</th>\n",
       "      <th>Predictions</th>\n",
       "    </tr>\n",
       "  </thead>\n",
       "  <tbody>\n",
       "    <tr>\n",
       "      <th>1011</th>\n",
       "      <td>12442</td>\n",
       "      <td>459.535004</td>\n",
       "      <td>187.508850</td>\n",
       "      <td>87.187302</td>\n",
       "      <td>0.885323</td>\n",
       "      <td>12941</td>\n",
       "      <td>0.587580</td>\n",
       "      <td>Cammeo</td>\n",
       "      <td>Osmancik</td>\n",
       "    </tr>\n",
       "    <tr>\n",
       "      <th>3185</th>\n",
       "      <td>12408</td>\n",
       "      <td>437.014008</td>\n",
       "      <td>179.741165</td>\n",
       "      <td>88.829605</td>\n",
       "      <td>0.869343</td>\n",
       "      <td>12598</td>\n",
       "      <td>0.636928</td>\n",
       "      <td>Osmancik</td>\n",
       "      <td>Osmancik</td>\n",
       "    </tr>\n",
       "    <tr>\n",
       "      <th>3698</th>\n",
       "      <td>12867</td>\n",
       "      <td>449.079987</td>\n",
       "      <td>181.700561</td>\n",
       "      <td>91.341064</td>\n",
       "      <td>0.864460</td>\n",
       "      <td>13152</td>\n",
       "      <td>0.649062</td>\n",
       "      <td>Osmancik</td>\n",
       "      <td>Osmancik</td>\n",
       "    </tr>\n",
       "    <tr>\n",
       "      <th>897</th>\n",
       "      <td>13090</td>\n",
       "      <td>472.945007</td>\n",
       "      <td>202.601578</td>\n",
       "      <td>83.230179</td>\n",
       "      <td>0.911722</td>\n",
       "      <td>13331</td>\n",
       "      <td>0.775290</td>\n",
       "      <td>Cammeo</td>\n",
       "      <td>Cammeo</td>\n",
       "    </tr>\n",
       "    <tr>\n",
       "      <th>3245</th>\n",
       "      <td>10359</td>\n",
       "      <td>409.510986</td>\n",
       "      <td>173.337967</td>\n",
       "      <td>76.875809</td>\n",
       "      <td>0.896273</td>\n",
       "      <td>10510</td>\n",
       "      <td>0.573588</td>\n",
       "      <td>Osmancik</td>\n",
       "      <td>Osmancik</td>\n",
       "    </tr>\n",
       "  </tbody>\n",
       "</table>\n",
       "</div>"
      ],
      "text/plain": [
       "       Area   Perimeter  Major_Axis_Length  Minor_Axis_Length  Eccentricity  \\\n",
       "1011  12442  459.535004         187.508850          87.187302      0.885323   \n",
       "3185  12408  437.014008         179.741165          88.829605      0.869343   \n",
       "3698  12867  449.079987         181.700561          91.341064      0.864460   \n",
       "897   13090  472.945007         202.601578          83.230179      0.911722   \n",
       "3245  10359  409.510986         173.337967          76.875809      0.896273   \n",
       "\n",
       "      Convex_Area    Extent     Class Predictions  \n",
       "1011        12941  0.587580    Cammeo    Osmancik  \n",
       "3185        12598  0.636928  Osmancik    Osmancik  \n",
       "3698        13152  0.649062  Osmancik    Osmancik  \n",
       "897         13331  0.775290    Cammeo      Cammeo  \n",
       "3245        10510  0.573588  Osmancik    Osmancik  "
      ]
     },
     "execution_count": 11,
     "metadata": {},
     "output_type": "execute_result"
    }
   ],
   "source": [
    "save_df = pd.concat([X_test, y_test], axis=\"columns\")\n",
    "save_df['Predictions'] = y_pred_model\n",
    "save_df.head()"
   ]
  },
  {
   "cell_type": "code",
   "execution_count": 12,
   "metadata": {
    "id": "UPQ_FKtImLsC"
   },
   "outputs": [],
   "source": [
    "save_df.to_csv('model_predictions.csv')"
   ]
  }
 ],
 "metadata": {
  "colab": {
   "provenance": []
  },
  "kernelspec": {
   "display_name": "Python 3 (ipykernel)",
   "language": "python",
   "name": "python3"
  },
  "language_info": {
   "codemirror_mode": {
    "name": "ipython",
    "version": 3
   },
   "file_extension": ".py",
   "mimetype": "text/x-python",
   "name": "python",
   "nbconvert_exporter": "python",
   "pygments_lexer": "ipython3",
   "version": "3.9.9"
  }
 },
 "nbformat": 4,
 "nbformat_minor": 1
}
